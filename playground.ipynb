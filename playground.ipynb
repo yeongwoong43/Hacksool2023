{
 "cells": [
  {
   "cell_type": "code",
   "execution_count": 1,
   "id": "initial_id",
   "metadata": {
    "collapsed": true,
    "ExecuteTime": {
     "end_time": "2023-09-19T04:32:00.962483Z",
     "start_time": "2023-09-19T04:32:00.832572700Z"
    }
   },
   "outputs": [
    {
     "ename": "ImportError",
     "evalue": "cannot import name 'SungDongMetroLines' from 'metro_line' (C:\\Users\\a0103\\OneDrive\\바탕 화면\\2023 학술타운\\그래프 구현\\metro_line.py)",
     "output_type": "error",
     "traceback": [
      "\u001B[1;31m---------------------------------------------------------------------------\u001B[0m",
      "\u001B[1;31mImportError\u001B[0m                               Traceback (most recent call last)",
      "\u001B[1;32m~\\AppData\\Local\\Temp\\ipykernel_7792\\2470803856.py\u001B[0m in \u001B[0;36m<module>\u001B[1;34m\u001B[0m\n\u001B[1;32m----> 1\u001B[1;33m \u001B[1;32mfrom\u001B[0m \u001B[0mmetro_line\u001B[0m \u001B[1;32mimport\u001B[0m \u001B[0mSungDongMetroLines\u001B[0m\u001B[1;33m\u001B[0m\u001B[1;33m\u001B[0m\u001B[0m\n\u001B[0m",
      "\u001B[1;31mImportError\u001B[0m: cannot import name 'SungDongMetroLines' from 'metro_line' (C:\\Users\\a0103\\OneDrive\\바탕 화면\\2023 학술타운\\그래프 구현\\metro_line.py)"
     ]
    }
   ],
   "source": [
    "from metro_line import SungDongMetroLines"
   ]
  },
  {
   "cell_type": "code",
   "execution_count": 5,
   "outputs": [
    {
     "ename": "NameError",
     "evalue": "name 'SungDongMetroLines' is not defined",
     "output_type": "error",
     "traceback": [
      "\u001B[1;31m---------------------------------------------------------------------------\u001B[0m",
      "\u001B[1;31mNameError\u001B[0m                                 Traceback (most recent call last)",
      "\u001B[1;32m~\\AppData\\Local\\Temp\\ipykernel_26212\\2019598156.py\u001B[0m in \u001B[0;36m<module>\u001B[1;34m\u001B[0m\n\u001B[1;32m----> 1\u001B[1;33m \u001B[0mSungDongMetroLines\u001B[0m\u001B[1;33m(\u001B[0m\u001B[1;33m)\u001B[0m\u001B[1;33m\u001B[0m\u001B[1;33m\u001B[0m\u001B[0m\n\u001B[0m",
      "\u001B[1;31mNameError\u001B[0m: name 'SungDongMetroLines' is not defined"
     ]
    }
   ],
   "source": [
    "SungDongMetroLines()"
   ],
   "metadata": {
    "collapsed": false,
    "ExecuteTime": {
     "end_time": "2023-09-19T04:31:15.861138800Z",
     "start_time": "2023-09-19T04:31:15.852138500Z"
    }
   },
   "id": "8f4f377f74296b59"
  },
  {
   "cell_type": "code",
   "execution_count": 5,
   "outputs": [
    {
     "data": {
      "text/plain": "{'왕십리': <metro_line.Station at 0x24e4d1bab80>}"
     },
     "execution_count": 5,
     "metadata": {},
     "output_type": "execute_result"
    }
   ],
   "source": [
    "line_2 = sungdong_metro.get_metro_line(2)\n",
    "line_2"
   ],
   "metadata": {
    "collapsed": false,
    "ExecuteTime": {
     "end_time": "2023-09-18T06:26:49.901736400Z",
     "start_time": "2023-09-18T06:26:49.847099100Z"
    }
   },
   "id": "153b0df017ed35f4"
  },
  {
   "cell_type": "code",
   "execution_count": 10,
   "outputs": [
    {
     "data": {
      "text/plain": "{'왕십리': <metro_line.Station at 0x24e4d1ba880>}"
     },
     "execution_count": 10,
     "metadata": {},
     "output_type": "execute_result"
    }
   ],
   "source": [
    "line_G = sungdong_metro.get_metro_line('G')\n",
    "line_G"
   ],
   "metadata": {
    "collapsed": false,
    "ExecuteTime": {
     "end_time": "2023-09-18T06:28:24.615898800Z",
     "start_time": "2023-09-18T06:28:24.539833800Z"
    }
   },
   "id": "ebb16480a7401e95"
  },
  {
   "cell_type": "code",
   "execution_count": 9,
   "outputs": [
    {
     "data": {
      "text/plain": "False"
     },
     "execution_count": 9,
     "metadata": {},
     "output_type": "execute_result"
    }
   ],
   "source": [
    "line_2[\"왕십리\"] == line_2[\"왕십리\"].transport_to_other_line(\"G\")"
   ],
   "metadata": {
    "collapsed": false,
    "ExecuteTime": {
     "end_time": "2023-09-18T06:28:00.700234100Z",
     "start_time": "2023-09-18T06:28:00.691731500Z"
    }
   },
   "id": "c48c3493770d8950"
  },
  {
   "cell_type": "code",
   "execution_count": 11,
   "outputs": [
    {
     "data": {
      "text/plain": "True"
     },
     "execution_count": 11,
     "metadata": {},
     "output_type": "execute_result"
    }
   ],
   "source": [
    "line_G[\"왕십리\"] == line_2[\"왕십리\"].transport_to_other_line(\"G\")"
   ],
   "metadata": {
    "collapsed": false,
    "ExecuteTime": {
     "end_time": "2023-09-18T06:28:54.838856500Z",
     "start_time": "2023-09-18T06:28:54.785128200Z"
    }
   },
   "id": "f745c6f65cf3a15b"
  },
  {
   "cell_type": "code",
   "execution_count": null,
   "outputs": [],
   "source": [],
   "metadata": {
    "collapsed": false
   },
   "id": "2cc2aa22720d70f4"
  }
 ],
 "metadata": {
  "kernelspec": {
   "display_name": "Python 3",
   "language": "python",
   "name": "python3"
  },
  "language_info": {
   "codemirror_mode": {
    "name": "ipython",
    "version": 2
   },
   "file_extension": ".py",
   "mimetype": "text/x-python",
   "name": "python",
   "nbconvert_exporter": "python",
   "pygments_lexer": "ipython2",
   "version": "2.7.6"
  }
 },
 "nbformat": 4,
 "nbformat_minor": 5
}
