{
 "cells": [
  {
   "cell_type": "code",
   "execution_count": 1,
   "id": "initial_id",
   "metadata": {
    "collapsed": true,
    "ExecuteTime": {
     "end_time": "2023-09-18T06:26:15.105697600Z",
     "start_time": "2023-09-18T06:26:15.087420500Z"
    }
   },
   "outputs": [],
   "source": [
    "import metro_line"
   ]
  },
  {
   "cell_type": "code",
   "execution_count": 4,
   "outputs": [
    {
     "data": {
      "text/plain": "<metro_line.SungdongMetroLines at 0x24e4d1bab20>"
     },
     "execution_count": 4,
     "metadata": {},
     "output_type": "execute_result"
    }
   ],
   "source": [
    "sungdong_metro = metro_line.SungdongMetroLines()\n",
    "sungdong_metro"
   ],
   "metadata": {
    "collapsed": false,
    "ExecuteTime": {
     "end_time": "2023-09-18T06:26:49.003422800Z",
     "start_time": "2023-09-18T06:26:48.958319900Z"
    }
   },
   "id": "8f4f377f74296b59"
  },
  {
   "cell_type": "code",
   "execution_count": 5,
   "outputs": [
    {
     "data": {
      "text/plain": "{'왕십리': <metro_line.Station at 0x24e4d1bab80>}"
     },
     "execution_count": 5,
     "metadata": {},
     "output_type": "execute_result"
    }
   ],
   "source": [
    "line_2 = sungdong_metro.get_metro_line(2)\n",
    "line_2"
   ],
   "metadata": {
    "collapsed": false,
    "ExecuteTime": {
     "end_time": "2023-09-18T06:26:49.901736400Z",
     "start_time": "2023-09-18T06:26:49.847099100Z"
    }
   },
   "id": "153b0df017ed35f4"
  },
  {
   "cell_type": "code",
   "execution_count": 10,
   "outputs": [
    {
     "data": {
      "text/plain": "{'왕십리': <metro_line.Station at 0x24e4d1ba880>}"
     },
     "execution_count": 10,
     "metadata": {},
     "output_type": "execute_result"
    }
   ],
   "source": [
    "line_G = sungdong_metro.get_metro_line('G')\n",
    "line_G"
   ],
   "metadata": {
    "collapsed": false,
    "ExecuteTime": {
     "end_time": "2023-09-18T06:28:24.615898800Z",
     "start_time": "2023-09-18T06:28:24.539833800Z"
    }
   },
   "id": "ebb16480a7401e95"
  },
  {
   "cell_type": "code",
   "execution_count": 9,
   "outputs": [
    {
     "data": {
      "text/plain": "False"
     },
     "execution_count": 9,
     "metadata": {},
     "output_type": "execute_result"
    }
   ],
   "source": [
    "line_2[\"왕십리\"] == line_2[\"왕십리\"].transport_to_other_line(\"G\")"
   ],
   "metadata": {
    "collapsed": false,
    "ExecuteTime": {
     "end_time": "2023-09-18T06:28:00.700234100Z",
     "start_time": "2023-09-18T06:28:00.691731500Z"
    }
   },
   "id": "c48c3493770d8950"
  },
  {
   "cell_type": "code",
   "execution_count": 11,
   "outputs": [
    {
     "data": {
      "text/plain": "True"
     },
     "execution_count": 11,
     "metadata": {},
     "output_type": "execute_result"
    }
   ],
   "source": [
    "line_G[\"왕십리\"] == line_2[\"왕십리\"].transport_to_other_line(\"G\")"
   ],
   "metadata": {
    "collapsed": false,
    "ExecuteTime": {
     "end_time": "2023-09-18T06:28:54.838856500Z",
     "start_time": "2023-09-18T06:28:54.785128200Z"
    }
   },
   "id": "f745c6f65cf3a15b"
  },
  {
   "cell_type": "code",
   "execution_count": null,
   "outputs": [],
   "source": [],
   "metadata": {
    "collapsed": false
   },
   "id": "2cc2aa22720d70f4"
  }
 ],
 "metadata": {
  "kernelspec": {
   "display_name": "Python 3",
   "language": "python",
   "name": "python3"
  },
  "language_info": {
   "codemirror_mode": {
    "name": "ipython",
    "version": 2
   },
   "file_extension": ".py",
   "mimetype": "text/x-python",
   "name": "python",
   "nbconvert_exporter": "python",
   "pygments_lexer": "ipython2",
   "version": "2.7.6"
  }
 },
 "nbformat": 4,
 "nbformat_minor": 5
}
